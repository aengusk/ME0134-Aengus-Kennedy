{
 "cells": [
  {
   "cell_type": "code",
   "execution_count": 9,
   "metadata": {},
   "outputs": [
    {
     "data": {
      "text/plain": [
       "<module 'akmath' from 'c:\\\\Users\\\\Aengus Kennedy\\\\Documents\\\\GitHub\\\\ME0134-Aengus-Kennedy\\\\akmath.py'>"
      ]
     },
     "execution_count": 9,
     "metadata": {},
     "output_type": "execute_result"
    }
   ],
   "source": [
    "import akmath\n",
    "from numpy.linalg import inv\n",
    "from importlib import reload\n",
    "reload(akmath)\n"
   ]
  },
  {
   "cell_type": "code",
   "execution_count": 14,
   "metadata": {},
   "outputs": [
    {
     "name": "stdout",
     "output_type": "stream",
     "text": [
      "[[5.0, -13.0, 7.0], [-6.0, 14.5, -7.5], [1.0, -2.0, 1.0]]\n",
      "\n",
      "[[  5.  -13.    7. ]\n",
      " [ -6.   14.5  -7.5]\n",
      " [  1.   -2.    1. ]]\n"
     ]
    }
   ],
   "source": [
    "A = [[1, 2, 8], [3, 4, 9], [5, 6, 11]]\n",
    "\n",
    "\n",
    "print(akmath.mat_inverse(A))\n",
    "print()\n",
    "print(inv(A))"
   ]
  },
  {
   "cell_type": "code",
   "execution_count": null,
   "metadata": {},
   "outputs": [],
   "source": []
  }
 ],
 "metadata": {
  "kernelspec": {
   "display_name": "Python 3",
   "language": "python",
   "name": "python3"
  },
  "language_info": {
   "codemirror_mode": {
    "name": "ipython",
    "version": 3
   },
   "file_extension": ".py",
   "mimetype": "text/x-python",
   "name": "python",
   "nbconvert_exporter": "python",
   "pygments_lexer": "ipython3",
   "version": "3.12.1"
  }
 },
 "nbformat": 4,
 "nbformat_minor": 2
}
